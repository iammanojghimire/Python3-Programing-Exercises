{
 "cells": [
  {
   "cell_type": "markdown",
   "metadata": {},
   "source": [
    "# python Basic example\n"
   ]
  },
  {
   "cell_type": "markdown",
   "metadata": {},
   "source": [
    "## 1) input a number to check if the number is positive or negative or zero"
   ]
  },
  {
   "cell_type": "code",
   "execution_count": null,
   "metadata": {},
   "outputs": [],
   "source": [
    "number = float(input(\"enter a number : \"))\n",
    "#print(type(number))\n",
    "if number >= 0:\n",
    "    if number == 0:\n",
    "        print(\"Entered number is Zero\")\n",
    "    else:\n",
    "        print(\"Entered number is positive\")\n",
    "else:\n",
    "    print(\"Entered number is negative\")"
   ]
  },
  {
   "cell_type": "markdown",
   "metadata": {},
   "source": [
    "## 2) check if the input integer number is even or odd"
   ]
  },
  {
   "cell_type": "markdown",
   "metadata": {},
   "source": [
    "number = int(input(\"Enter a number : \"))\n",
    "if (number % 2 == 0):\n",
    "    print(\"Enter number {} is even\".format(number))\n",
    "else:\n",
    "    print(\"Enter number {} is odd\".format(number))\n",
    "\n"
   ]
  },
  {
   "cell_type": "markdown",
   "metadata": {},
   "source": [
    "\n",
    "# 3) check if the input year is a leap year or not"
   ]
  },
  {
   "cell_type": "code",
   "execution_count": null,
   "metadata": {},
   "outputs": [],
   "source": [
    "year = int(input(\"Enter a year : \"))\n",
    "if (year % 4 == 0):\n",
    "    if  (year % 100 == 0):\n",
    "        if (year % 400 == 0):\n",
    "            print(\"Entered year \\\"{year}\\\" is leap year \".format(year=year))\n",
    "        else:\n",
    "            print(\"Entered year \\\"{year}\\\" is not a leap year\".format(year=year))\n",
    "    else:\n",
    "        print(\"Entered year \\\"{year}\\\" is a leap year\".format(year=year))\n",
    "else:\n",
    "    print(\"Entered year \\\"{year}\\\" is not a leap year\".format(year=year))\n"
   ]
  },
  {
   "cell_type": "markdown",
   "metadata": {},
   "source": [
    "\n",
    "# 4) quadratic equation"
   ]
  },
  {
   "cell_type": "code",
   "execution_count": null,
   "metadata": {},
   "outputs": [],
   "source": [
    "import cmath\n",
    "a,b,c = 1,5,6\n",
    "\n",
    "d = b**2 - 4*a*c\n",
    "\n",
    "solution1 = (-b - cmath.sqrt(d))/(2*a)\n",
    "solution2 = (-b + cmath.sqrt(d))/(2*a)\n",
    "\n",
    "print(\"solution are {0} and {1}\".format(solution1, solution2))"
   ]
  },
  {
   "cell_type": "markdown",
   "metadata": {},
   "source": [
    "# 5) square root of number using exponent operator & cmath module\n"
   ]
  },
  {
   "cell_type": "code",
   "execution_count": null,
   "metadata": {},
   "outputs": [],
   "source": [
    "number = float(input(\"Enter a number : \"))\n",
    "sqrt = number ** 0.5\n",
    "print(\"Square root of %0.2f is %.3f\"% (number, sqrt))\n",
    "\n",
    "\n",
    "import cmath\n",
    "\n",
    "'''\n",
    "eval() function \n",
    "'''\n",
    "complex_number = eval(input(\"Enter a complex number (e.g 3 + 5j) : \"))\n",
    "\n",
    "sqrt = cmath.sqrt(complex_number)\n",
    "print(\"Square root of {0} is {1:0.3f} + {2:0.3f}j\".format(complex_number, sqrt.real, sqrt.imag))\n"
   ]
  },
  {
   "cell_type": "markdown",
   "metadata": {},
   "source": [
    "\n",
    "# 6) input 2 integer number and add them"
   ]
  },
  {
   "cell_type": "code",
   "execution_count": null,
   "metadata": {},
   "outputs": [],
   "source": [
    "\n",
    "first_number = int(input('Enter the first number : '))\n",
    "second_number = int(input('Enter the second number : '))\n",
    "sum = first_number + second_number\n",
    "print('{first_number} + {second_number} = {sum}'.format(first_number=first_number, second_number=second_number, sum=sum))"
   ]
  },
  {
   "cell_type": "markdown",
   "metadata": {},
   "source": [
    "# 7) input 3 number and compare them with each other"
   ]
  },
  {
   "cell_type": "code",
   "execution_count": null,
   "metadata": {},
   "outputs": [],
   "source": [
    "\n",
    "\n",
    "while True:\n",
    "    first_number = int(input('Enter the first number : '))\n",
    "    second_number = int(input('Enter the second number : '))\n",
    "    third_number = int(input('Enter the third number : '))\n",
    "\n",
    "\n",
    "\n",
    "\n",
    "    if (first_number > second_number and first_number > third_number):\n",
    "        print('{0} is greater among {1} and {2}'.format(first_number, second_number, third_number))\n",
    "\n",
    "    if (second_number > first_number and second_number > third_number):\n",
    "        print('{0} is greater among {1} and {2}'.format(second_number, first_number, third_number))\n",
    "    if (third_number > first_number and third_number > second_number):\n",
    "        print('{0} is greater among {1} and {2}'.format(third_number, first_number, second_number))\n",
    "\n",
    "\n",
    "    if (first_number >= third_number and second_number >= third_number):\n",
    "        print('{0} and {1} is greater than or equal to {2}'.format(first_number, second_number, third_number))\n",
    "\n",
    "\n",
    "    if (first_number >= second_number and third_number >= second_number):\n",
    "        print('{0} and {1} is greater than or equal to {2}'.format(first_number, third_number, second_number))\n",
    "\n",
    "\n",
    "    if (third_number >= first_number and second_number >= first_number):\n",
    "        print('{0} and {1} is greater than or equal to {2}'.format(third_number, second_number, first_number))\n",
    "\n",
    "    if (first_number == second_number == third_number):\n",
    "        print('All number are equal ')\n",
    "\n",
    "\n",
    "    message = input('try more ? (yes/no) : ')\n",
    "    if (str.lower(message) == 'yes'):\n",
    "        continue\n",
    "    elif (str.lower(message) =='no'):\n",
    "        break\n",
    "    else:\n",
    "        print('Only yes/no are valid Terminating...')\n",
    "        break\n",
    "\n",
    "\n"
   ]
  },
  {
   "cell_type": "markdown",
   "metadata": {},
   "source": [
    "# 8) perform a simple arthmetic operation of two number"
   ]
  },
  {
   "cell_type": "code",
   "execution_count": null,
   "metadata": {},
   "outputs": [],
   "source": [
    "first_number = float(input('Enter the first number : '))\n",
    "second_number = float(input('Enter the second number : '))\n",
    "\n",
    "sum = first_number + second_number\n",
    "sub = first_number - second_number\n",
    "mul = first_number * second_number\n",
    "div = first_number / second_number\n",
    "mod = first_number % second_number\n",
    "floor = first_number // second_number\n",
    "\n",
    "print('{:*^25}'.format(' Results '))\n",
    "print('{0} + {1} = {2}'.format(first_number, second_number, sum))\n",
    "print('{0} - {1} = {2}'.format(first_number, second_number, sub))\n",
    "print('{0} x {1} ={2}'.format(first_number, second_number, mul))\n",
    "print('{0} / {1} = {2}'.format(first_number, second_number, div))\n",
    "print('{0} % {1} = {2}'.format(first_number, second_number, mod))\n",
    "print('{0} // {1} = {2}'.format(first_number, second_number, floor))\n",
    "\n"
   ]
  },
  {
   "cell_type": "markdown",
   "metadata": {},
   "source": [
    "# 9) Ask user to input a days and convert it into years,months and days"
   ]
  },
  {
   "cell_type": "code",
   "execution_count": null,
   "metadata": {},
   "outputs": [],
   "source": [
    "days = int(input('Enter the days : '))\n",
    "\n",
    "year = days / 365\n",
    "month = days % 365\n",
    "month1 = month / 30\n",
    "days1 = month % 30\n",
    "\n",
    "print('Years = {0:0.0f}\\n months = {1:0.0f}\\n days = {2}'.format(year, month1, days1))\n"
   ]
  },
  {
   "cell_type": "markdown",
   "metadata": {},
   "source": [
    "# 10) Ask user to input a seconds and convert it into hours, minutes and seconds"
   ]
  },
  {
   "cell_type": "code",
   "execution_count": null,
   "metadata": {},
   "outputs": [],
   "source": [
    "seconds = int(input('Enter the second : '))\n",
    "\n",
    "hours = seconds / 3600\n",
    "minutes = seconds % 3600\n",
    "new_second = seconds % 60\n",
    "\n",
    "print('Seconds before conversation : {0}'.format(seconds))\n",
    "print('Time after conversation \\n  = {0:.0f} : {1} : {2}'.format(hours, minutes, new_second))\n"
   ]
  },
  {
   "cell_type": "markdown",
   "metadata": {},
   "source": [
    "# 11) Assign first and second number as integrer 3, third and fourth as float 4,5 respectively. Add third and fourth number and assign to first number,also add first and second number and assign to third with float type casting "
   ]
  },
  {
   "cell_type": "code",
   "execution_count": null,
   "metadata": {},
   "outputs": [],
   "source": [
    "first_number = second_number = 3  #both variable assigned with 3 here\n",
    "third_number,fourth_number = float(4),float(5)\n",
    "\n",
    "\n",
    "first_number = third_number + fourth_number\n",
    "print('First Number : {0}'.format(first_number))\n",
    "\n",
    "# first_number, second_number = float(first_number), float(second_number)\n",
    "# third_number = first_number + second_number\n",
    "third_number = float(first_number + second_number)\n",
    "print('Third Number : {0}'.format(third_number))\n",
    "\n"
   ]
  },
  {
   "cell_type": "code",
   "execution_count": null,
   "metadata": {},
   "outputs": [],
   "source": [
    "'''\n",
    "python doesn't support increment(++) and decrement(--) using prefix and postfix operator\n",
    "'''\n",
    "\n",
    "first_number = second_number = 3\n",
    "\n",
    "first_number -= 1\n",
    "second_number += 1\n",
    "\n",
    "print('First Number after decrement : {0}'.format(first_number))\n",
    "print('Second Number after increment : {0}'.format(second_number))\n",
    "\n"
   ]
  },
  {
   "cell_type": "markdown",
   "metadata": {},
   "source": [
    "# 12) Ask user to input age and qualifaction,if age is greater then or equal and user have qualification.show candidate and eligible otherwise not eligible for job"
   ]
  },
  {
   "cell_type": "code",
   "execution_count": null,
   "metadata": {},
   "outputs": [],
   "source": [
    "age = int(input('Enter your age : '))\n",
    "qualification = input('Do you have any bachelor degree (yes/no) : ')\n",
    "\n",
    "if (age >= 18 and qualification == 'yes'):\n",
    "    print('You are eligible candidate for the examination')\n",
    "else:\n",
    "    print('you are not eligible candidate sorry !!!')\n"
   ]
  },
  {
   "cell_type": "markdown",
   "metadata": {},
   "source": [
    "# 13) Ask candidate work experience and qualification if candidate have bachelor degree he/she is eligible or if he/she have intermediate degree and more than or equal 5 years experience he/she is eligible otherwise not eligible"
   ]
  },
  {
   "cell_type": "code",
   "execution_count": null,
   "metadata": {},
   "outputs": [],
   "source": [
    "\n",
    "experience = int(input('Enter your previous job experience in year : '))\n",
    "qualification = input('Enter your Education status (intermediate/bachelor/masters) : ')\n",
    "if (qualification == str.lower('bachelor') or (qualification == str.lower('intermediate') and experience >= 5 )):\n",
    "    print('You are eligible for the job ')\n",
    "else:\n",
    "    print('You are not eligible for the job')"
   ]
  },
  {
   "cell_type": "markdown",
   "metadata": {},
   "source": [
    "## 13) A reputed trading company has decided to distribute the bonus the criteria for distributing the bonus are as follows.\n",
    "\n",
    "### 1) Employee having more than 5 years experience and salary more than 25 thousand will get 20 % bonus of their basic salary\n",
    "\n",
    "### 2) Employee having more than 5 years experience and salary less than 25 thousand will get 15 % bonus of their basic salary\n",
    "\n",
    "### 3)Employee having less than 5 years experience will get bonus\n",
    "\n",
    "\n"
   ]
  },
  {
   "cell_type": "code",
   "execution_count": null,
   "metadata": {},
   "outputs": [],
   "source": [
    "\n",
    "employee_salary = int(input('Enter the employee salary : '))\n",
    "employee_experience = int(input('Enter the employee working experience : '))\n",
    "bonus = 0\n",
    "\n",
    "if (employee_experience >= 5 and employee_salary >= 25000):\n",
    "    bonus = employee_salary * (20/100)\n",
    "    salary_with_bonus = employee_salary + bonus\n",
    "    print('Employee basic salary is {0} with 20 % bonus of salary {1}.so total salary is {2}'.format(employee_salary, bonus, salary_with_bonus))\n",
    "\n",
    "elif (employee_experience >= 5 and employee_salary < 25000):\n",
    "    bonus = employee_salary * (15/100)\n",
    "    salary_with_bonus = employee_salary + bonus\n",
    "    print('Employee basic salary is {0} with 15% bonus of salary {1}.so total salary is {2}'.format(employee_salary,bonus, salary_with_bonus))\n",
    "\n",
    "else:\n",
    "    print('Employee basic salary is {0} with no bonus'.format(employee_salary))\n",
    "\n"
   ]
  },
  {
   "cell_type": "code",
   "execution_count": null,
   "metadata": {},
   "outputs": [],
   "source": [
    "## solution 2"
   ]
  },
  {
   "cell_type": "code",
   "execution_count": null,
   "metadata": {},
   "outputs": [],
   "source": [
    "\n",
    "employee_salary = int(input('Enter the employee salary : '))\n",
    "employee_experience = int(input('Enter the employee working experience : '))\n",
    "bonus = 0\n",
    "\n",
    "if (employee_experience >= 5):\n",
    "    if (employee_salary >= 25000):\n",
    "        bonus = employee_salary * (20/100)\n",
    "        salary_with_bonus = employee_salary + bonus\n",
    "        print('Employee basic salary is {0} with 20 % bonus of salary {1}.so total salary is {2}'.format(employee_salary, bonus, salary_with_bonus))\n",
    "\n",
    "    elif(employee_salary < 25000):\n",
    "        bonus = employee_salary * (15 / 100)\n",
    "        salary_with_bonus = employee_salary + bonus\n",
    "        print('Employee basic salary is {0} with 15% bonus of salary {1}.so total salary is {2}'.format(employee_salary, bonus, salary_with_bonus))\n",
    "\n",
    "    else:\n",
    "        pass\n",
    "else:\n",
    "    print('Employee basic salary is {0} with no bonus'.format(employee_salary))\n",
    "\n"
   ]
  },
  {
   "cell_type": "markdown",
   "metadata": {},
   "source": [
    "# 14) Ask user to enter 1-7 and shows days depending on number "
   ]
  },
  {
   "cell_type": "code",
   "execution_count": null,
   "metadata": {},
   "outputs": [],
   "source": [
    "day = int(input('Enter the day of the week(1/2/3/4/5/6/7) : '))\n",
    "if (day == 1):\n",
    "    print('Sunday')\n",
    "elif (day == 2):\n",
    "    print('Monday')\n",
    "elif (day == 3):\n",
    "    print('Tuesday')\n",
    "elif (day == 4):\n",
    "    print('Wednesday')\n",
    "elif (day == 5):\n",
    "    print('Thursday')\n",
    "elif (day == 6):\n",
    "    print('friday')\n",
    "elif (day == 7):\n",
    "    print('Saturday')\n",
    "else:\n",
    "    print('Invalid input please enter form(1-7)')\n",
    "\n",
    "\n"
   ]
  },
  {
   "cell_type": "markdown",
   "metadata": {},
   "source": [
    "# 15) program to check whether a entered value is alphabet , numerical or special"
   ]
  },
  {
   "cell_type": "code",
   "execution_count": null,
   "metadata": {},
   "outputs": [],
   "source": [
    "\n",
    "\n",
    "any_character = input('Enter any character : ')\n",
    "if (any_character >= 'a' and any_character <= 'z'):\n",
    "    print('it is a alphabet')\n",
    "elif (any_character >= '0' and any_character <= '9'):\n",
    "    print('it is an numeric')\n",
    "else:\n",
    "    print('it is an special character')\n",
    "\n"
   ]
  },
  {
   "cell_type": "markdown",
   "metadata": {},
   "source": [
    "# 16) simple calculator using function"
   ]
  },
  {
   "cell_type": "code",
   "execution_count": null,
   "metadata": {},
   "outputs": [],
   "source": [
    "\n",
    "def add(x, y):\n",
    "    return x + y\n",
    "\n",
    "def substract(x, y):\n",
    "    return x-y\n",
    "\n",
    "def multiply(x, y):\n",
    "    return x * y\n",
    "\n",
    "def divide(x, y):\n",
    "    return x / y\n",
    "\n",
    "print('Select option')\n",
    "print(\"-------------\")\n",
    "print('1.Add')\n",
    "print(\"2.substract\")\n",
    "print(\"3.Multiply\")\n",
    "print(\"4.Divide\")\n",
    "\n",
    "while True:\n",
    "    choice = input(\"Enter the choice (1/2/3/4) : \")\n",
    "    if choice in (\"1\",\"2\",\"3\",\"4\"):\n",
    "        first_number = float(input(\"Enter the first number : \"))\n",
    "        second_number = float(input(\"Enter the second number : \"))\n",
    "\n",
    "        if choice == \"1\":\n",
    "            print(first_number, \"+\", second_number, \"=\",add(first_number, second_number))\n",
    "        elif choice == \"2\":\n",
    "            print(first_number, \"-\", second_number, \"=\",substract(first_number, second_number))\n",
    "        elif choice == \"3\":\n",
    "            print(first_number, \"x\",second_number, \"=\",multiply(first_number, second_number))\n",
    "        elif choice == \"4\":\n",
    "            print(first_number, \"/\",second_number,\"=\",divide(first_number, second_number))\n",
    "        else:\n",
    "            print(\"Invalid Input Please choose between 1-4\")\n"
   ]
  },
  {
   "cell_type": "markdown",
   "metadata": {},
   "source": [
    "## 17) Ask user to input radius of circle and find it's area and circumference"
   ]
  },
  {
   "cell_type": "code",
   "execution_count": null,
   "metadata": {},
   "outputs": [],
   "source": [
    "PI = 3.14\n",
    "radius = float(input(\"Enter the radius of circle : \"))\n",
    "area = PI * (radius ** 2)\n",
    "circumference = 2 * PI * radius\n",
    "\n",
    "print(\"Area of circle {}\".format(area))\n",
    "print(\"Circumference of circle {}\".format(circumference))\n"
   ]
  },
  {
   "cell_type": "markdown",
   "metadata": {},
   "source": [
    "## 18) convert the celsius and fahrenheit\n"
   ]
  },
  {
   "cell_type": "code",
   "execution_count": null,
   "metadata": {},
   "outputs": [],
   "source": [
    "\n",
    "\n",
    "celsius = float(input(\"Enter the temperature in celsius: \"))\n",
    "fahrenheit = 9 * celsius /5 + 32\n",
    "\n",
    "print(\"convert celsius {} to fahrenheit {:0.3f}\".format(celsius, fahrenheit))\n"
   ]
  },
  {
   "cell_type": "markdown",
   "metadata": {},
   "source": [
    "# 19)Ask how many slices of pizza the user started with and ask how many slices they have eaten.workout how many slices they have left and display the answer in a user friendly format\n"
   ]
  },
  {
   "cell_type": "code",
   "execution_count": null,
   "metadata": {},
   "outputs": [],
   "source": [
    "total_slices_of_pizza = int(input(\"How many slices of pizza do you have? \\n Answer : \"))\n",
    "eaten_slices_of_pizza = int(input(\"How many slices you have eaten ? \\n Answer : \"))\n",
    "remaining_slices_of_pizza = total_slices_of_pizza - eaten_slices_of_pizza\n",
    "\n",
    "print(\"you have {} slices of pizza left\".format(remaining_slices_of_pizza))\n"
   ]
  },
  {
   "cell_type": "markdown",
   "metadata": {},
   "source": [
    "# 20) Ask the user for their name and their age.Add 1 to their age and display the output[name] in next birthday you will be [new_age]\n"
   ]
  },
  {
   "cell_type": "code",
   "execution_count": null,
   "metadata": {},
   "outputs": [],
   "source": [
    "name = input(\"Enter your name : \")\n",
    "age = int(input(\"Enter your age : \"))\n",
    "new_age = age + 1\n",
    "print(name,\"in next birthday you will be\",new_age)\n",
    "\n"
   ]
  }
 ],
 "metadata": {
  "kernelspec": {
   "display_name": "Python 3",
   "language": "python",
   "name": "python3"
  },
  "language_info": {
   "codemirror_mode": {
    "name": "ipython",
    "version": 3
   },
   "file_extension": ".py",
   "mimetype": "text/x-python",
   "name": "python",
   "nbconvert_exporter": "python",
   "pygments_lexer": "ipython3",
   "version": "3.7.7"
  }
 },
 "nbformat": 4,
 "nbformat_minor": 4
}
